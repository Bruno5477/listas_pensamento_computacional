{
 "cells": [
  {
   "cell_type": "markdown",
   "metadata": {},
   "source": [
    "##### 1) Crie um programa que imprime de 2 a 20, sendo que ele deve imprimir de dois em dois."
   ]
  },
  {
   "cell_type": "code",
   "execution_count": null,
   "metadata": {},
   "outputs": [],
   "source": [
    "for i in range(2, 21, 2):\n",
    "    print(i, end=' ')"
   ]
  },
  {
   "cell_type": "markdown",
   "metadata": {},
   "source": [
    "##### 2) Crie um programa que imprime de 3 a 15, sendo que ele deve imprimir de 3 em 3."
   ]
  },
  {
   "cell_type": "code",
   "execution_count": null,
   "metadata": {},
   "outputs": [],
   "source": [
    "for i in range(3, 16, 3):\n",
    "    print(i, end=' ')"
   ]
  },
  {
   "cell_type": "markdown",
   "metadata": {},
   "source": [
    "##### 3) \n",
    "  a)Adicione nessa lista o país Inglaterra como primeira viagem.\n",
    "\n",
    "  b) Exclua Argentina do roteiro de viagem.\n",
    "  \n",
    "  c) Adicione México nas viagens viagem = ['Japão', 'Panamá', 'Argentina', 'Bolivia'\n",
    ",'Canadá', 'China']"
   ]
  },
  {
   "cell_type": "code",
   "execution_count": null,
   "metadata": {},
   "outputs": [],
   "source": [
    "viagem = ['Japão', 'Panamá', 'Argentina', 'Bolivia','Canadá', 'China']\n",
    "\n",
    "viagem.insert(0, 'Inglaterra')\n",
    "viagem.remove('Argentina')\n",
    "viagem.append('México')\n",
    "print(viagem)\n"
   ]
  },
  {
   "cell_type": "markdown",
   "metadata": {},
   "source": [
    "##### 4) Crie um programa que irá Informar a média da turma e a quantidade de notas menores ou igual a 7.\n",
    "\n",
    "Vão informar quantos estão reprovados e quantos estão aprovados\n",
    "\n",
    "notas = [0, 10, 10, 10, 9, 8, 5, 4, 2, 6, 6, 5, 4]"
   ]
  },
  {
   "cell_type": "code",
   "execution_count": null,
   "metadata": {},
   "outputs": [],
   "source": [
    "notas = [0, 10, 10, 10, 9, 8, 5, 4, 2, 6, 6, 5, 4]\n",
    "aprovados = 0\n",
    "reprovados = 0\n",
    "for i in range(len(notas)):\n",
    "    if notas[i] > 7:\n",
    "        aprovados += 1\n",
    "    else:\n",
    "        reprovados += 1\n",
    "media = sum(notas)/len(notas)\n",
    "\n",
    "print(f'A média da turma foi: {media:.1f} \\nO número de aprovados na turma foi: {aprovados} \\nO número de reprovados na turma foi: {reprovados}')\n",
    "\n",
    "    "
   ]
  },
  {
   "cell_type": "markdown",
   "metadata": {},
   "source": [
    "##### 5) Imprima os valores das listas da seguinte forma:\n",
    "vendedores = ['Hugo', 'Ignacio', 'Jony', 'Lion', 'Monica','Natalia']\n",
    "\n",
    "vendas = [50, 100, 2, 30, 50, 3]\n",
    "\n",
    "Vendas por vendedores:\n",
    "\n",
    "Hugo: 50\n",
    "\n",
    "Ignacio: 100\n",
    "\n",
    "Jony: 2\n",
    "\n",
    "Lion: 30\n",
    "\n",
    "Monica: 50\n",
    "\n",
    "Natalia: 3"
   ]
  },
  {
   "cell_type": "code",
   "execution_count": null,
   "metadata": {},
   "outputs": [],
   "source": [
    "vendedores = ['Hugo', 'Ignacio', 'Jony', 'Lion', 'Monica','Natalia']\n",
    "vendas = [50, 100, 2, 30, 50, 3]\n",
    "\n",
    "for i, venda in enumerate(vendedores):\n",
    "    print(f'{venda}: {vendas[i]}')"
   ]
  },
  {
   "cell_type": "markdown",
   "metadata": {},
   "source": [
    "6) Crie um programa que informe o nome dos alunos aprovados, com suas respectivas notas e os reprovados.\n",
    "\n",
    "notas = [0, 2, 10, 9, 8, 5]\n",
    "\n",
    "alunos = ['Fulano', 'Cilano', 'Beltrano', 'Gerlano','Marlano', 'Jesiano']"
   ]
  },
  {
   "cell_type": "code",
   "execution_count": 7,
   "metadata": {},
   "outputs": [
    {
     "name": "stdout",
     "output_type": "stream",
     "text": [
      "Fulano: 0, Reprovado!\n",
      "Cilano: 2, Reprovado!\n",
      "Beltrano: 10, Aprovado!\n",
      "Gerlano: 9, Aprovado!\n",
      "Marlano: 8, Aprovado!\n",
      "Jesiano: 5, Reprovado!\n"
     ]
    }
   ],
   "source": [
    "notas = [0,2,10,9,8,5]\n",
    "alunos = ['Fulano', 'Cilano', 'Beltrano', 'Gerlano','Marlano', 'Jesiano']\n",
    "\n",
    "for i, nome in enumerate(alunos):\n",
    "    if notas[i] > 7:\n",
    "        print(f'{nome}: {notas[i]}, Aprovado!')\n",
    "        \n",
    "    else:\n",
    "        print(f'{nome}: {notas[i]}, Reprovado!')\n",
    "        \n",
    "\n"
   ]
  },
  {
   "cell_type": "code",
   "execution_count": null,
   "metadata": {},
   "outputs": [],
   "source": [
    "# outras forma de fazer a 6.\n",
    "# Listas de alunos e suas respectivas notas\n",
    "notas = [0, 2, 10, 9, 8, 5]\n",
    "alunos = ['Fulano', 'Cilano', 'Beltrano', 'Gerlano', 'Marlano', 'Jesiano']\n",
    "\n",
    "# Inicializando listas para alunos aprovados e reprovados\n",
    "aprovados = []\n",
    "reprovados = []\n",
    "\n",
    "# Critério de aprovação\n",
    "nota_minima_aprovacao = 7\n",
    "\n",
    "for i in range(len(alunos)):\n",
    "    if notas[i] >= nota_minima_aprovacao:\n",
    "        aprovados.append((alunos[i], notas[i]))\n",
    "    else:\n",
    "        reprovados.append((alunos[i], notas[i]))\n",
    "\n",
    "# Exibindo resultados\n",
    "print(\"Alunos Aprovados:\")\n",
    "for aluno, nota in aprovados:\n",
    "    print(f\"{aluno}: {nota}\")\n",
    "\n",
    "print(\"\\nAlunos Reprovados:\")\n",
    "for aluno, nota in reprovados:\n",
    "    print(f\"{aluno}: {nota}\")"
   ]
  }
 ],
 "metadata": {
  "kernelspec": {
   "display_name": "base",
   "language": "python",
   "name": "python3"
  },
  "language_info": {
   "codemirror_mode": {
    "name": "ipython",
    "version": 3
   },
   "file_extension": ".py",
   "mimetype": "text/x-python",
   "name": "python",
   "nbconvert_exporter": "python",
   "pygments_lexer": "ipython3",
   "version": "3.9.7"
  }
 },
 "nbformat": 4,
 "nbformat_minor": 2
}
