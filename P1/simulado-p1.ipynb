{
 "cells": [
  {
   "cell_type": "markdown",
   "metadata": {},
   "source": [
    "## Questão 1\n",
    "\n",
    "Desenvolva um programa que solicite ao usuário sua cidade natal:\n",
    "\n",
    "  * De qual cidade você é?\n",
    "\n",
    "Após receber a resposta, o programa deve exibir uma mensagem relacionada à cidadefornecida:\n",
    "  * Cidade maravilhosa! Sempre quis visitar [Nome da Cidade]!"
   ]
  },
  {
   "cell_type": "code",
   "execution_count": 1,
   "metadata": {},
   "outputs": [
    {
     "name": "stdout",
     "output_type": "stream",
     "text": [
      "Cidade maravilhosa! Sempre quis visitar Saquarema\n"
     ]
    }
   ],
   "source": [
    "cidade = input('De qual cidade você é? ')\n",
    "print(f'Cidade maravilhosa! Sempre quis visitar {cidade}')"
   ]
  },
  {
   "cell_type": "markdown",
   "metadata": {},
   "source": [
    "## Questão 2\n",
    "Você foi contratado para desenvolver um programa que ajude o departamento de RH de umaempresa a calcular os bônus de salário para vendedores com base no número de suas vendasmensais. O salário é de R$ 2700.\n",
    "\n",
    "As regras para o cálculo do novo salário são as seguintes:\n",
    "\n",
    "   - Se o vendedor realizar entre 100 e menos que 300, ele receberá um bônus de 10% nosalário.\n",
    "   - Se o vendedor realizar acima de 300 vendas, ele receberá um bônus de 15% no salário.\n",
    "   - Caso contrário, o salário do vendedor permanecerá o mesmo salário"
   ]
  },
  {
   "cell_type": "code",
   "execution_count": 5,
   "metadata": {},
   "outputs": [
    {
     "name": "stdout",
     "output_type": "stream",
     "text": [
      "O salário final do vendedor é R$ 2700.00\n"
     ]
    }
   ],
   "source": [
    "vendas = int(input('insira o número de vendas: '))\n",
    "salario = 2700\n",
    "if 100 <= vendas < 300:\n",
    "    print(f'O salário final do vendedor é R$ {salario*1.1:.2f}')\n",
    "elif vendas >= 300:\n",
    "    print(f'O salário final do vendedor é R$ {salario*1.15:.2f}')\n",
    "else:\n",
    "    print(f'O salário final do vendedor é R$ {salario:.2f}')"
   ]
  },
  {
   "cell_type": "markdown",
   "metadata": {},
   "source": [
    "## Questão 3\n",
    "\n",
    "Crie um programa o qual o professor digita a nota do aluno de P1 (primeira prova) e P2(segunda prova) e P3 (PROVA FINAL) caso não alcance média 7 das primeiras provas.\n",
    "\n",
    "  - Se a média for igual ou maior que 7, deverá informar que este aluno foi aprovado.\n",
    "  - Se a nota foi menor que 7, o aluno está vai estar na prova fi nal.\n",
    "  - Na prova final, se ele tirar nota maior ou igual 6, ele estará aprovado. Se tirar abaixo, será reprovado."
   ]
  },
  {
   "cell_type": "code",
   "execution_count": null,
   "metadata": {},
   "outputs": [],
   "source": [
    "p1 = float(input('Qual foi a sua nota na p1? '))\n",
    "p2 = float(input('Qual foi a sua nota na p2? '))\n",
    "\n",
    "media = (p1 + p2) / 2\n",
    "\n",
    "if media >= 7:\n",
    "    print(f'A sua média foi {media}. Parabéns, você foi aprovado!')\n",
    "else:\n",
    "    print(f'A sua média foi {media}, você terá que fazer a prova final!')\n",
    "    prova_final = float(input('Qual foi a sua nota na prova final? '))\n",
    "    if prova_final >= 6:\n",
    "        print(f'A sua nota na prova final foi {prova_final}. Parabéns você foi aprovado!')\n",
    "    else:\n",
    "        print(f'A sua nota na prova final foi {prova_final}, que pena, você foi reprovado.')\n"
   ]
  },
  {
   "cell_type": "markdown",
   "metadata": {},
   "source": [
    "## Questão 4\n",
    "\n",
    "Desenvolva um programa em Python que, para cada uma das variáveis fornecidas abaixo,imprima o nome da variável seguido de seu tipo de dado. Por exemplo, para a variável 'a', o programa deve imprimir:\n",
    "   - a: <tipo_de_dado>."
   ]
  },
  {
   "cell_type": "code",
   "execution_count": 8,
   "metadata": {},
   "outputs": [
    {
     "name": "stdout",
     "output_type": "stream",
     "text": [
      "a: <class 'str'>\n",
      "b: <class 'str'>\n",
      "c: <class 'bool'>\n",
      "d: <class 'float'>\n",
      "e: <class 'int'>\n"
     ]
    }
   ],
   "source": [
    "a = 'Ciclano'\n",
    "b = '5'\n",
    "c = True\n",
    "d = 22.0\n",
    "e = 12\n",
    "\n",
    "print('a:', type(a))\n",
    "print('b:', type(b))\n",
    "print('c:', type(c))\n",
    "print('d:', type(d))\n",
    "print('e:', type(e))"
   ]
  },
  {
   "cell_type": "markdown",
   "metadata": {},
   "source": [
    "## Questão 5\n",
    "\n",
    "Lançado uma série japonesa em animação , em que os personagens de diferentes etinias lutamcom armaduras referente a diferentes constelações lutam para proteger uma deusa grega da guerra.\n",
    "\n",
    "Chegam novos brinquedos da série animada e o lojista resolve aplicar um aumento de 20% nos bonecos da série que custam 120 reais.\n",
    "\n",
    "Crie um programa que realize forneça o valor com o aumento."
   ]
  },
  {
   "cell_type": "code",
   "execution_count": 13,
   "metadata": {},
   "outputs": [
    {
     "name": "stdout",
     "output_type": "stream",
     "text": [
      "O novo preço dos bonecos da série animada é de R$ 144.000000\n"
     ]
    }
   ],
   "source": [
    "boneco = 120\n",
    "\n",
    "print(f'O novo preço dos bonecos da série animada é de R$ {boneco*1.2:2f}')"
   ]
  },
  {
   "cell_type": "markdown",
   "metadata": {},
   "source": [
    "## Questão 6\n",
    "\n",
    "Faça o somatório dos valores a seguir, com um resultado inteiro:\n",
    "\n",
    "- valor_a = '15'\n",
    "- valor_b = 32.0\n",
    "- valor_c = 100"
   ]
  },
  {
   "cell_type": "code",
   "execution_count": 15,
   "metadata": {},
   "outputs": [
    {
     "name": "stdout",
     "output_type": "stream",
     "text": [
      "O somatório dos valores, com o resultado inteiro é 147 \n"
     ]
    }
   ],
   "source": [
    "valor_a = '15'\n",
    "valor_b = 32.0\n",
    "valor_c = 100\n",
    "\n",
    "soma = int(valor_a) + int(valor_b) + valor_c\n",
    "\n",
    "print(f'O somatório dos valores, com o resultado inteiro é {soma} ')"
   ]
  },
  {
   "cell_type": "markdown",
   "metadata": {},
   "source": [
    "## Questão 7\n",
    "\n",
    "Crie um programa que. \n",
    "\n",
    "Se for um número divisivel por 3 é impresso: \"Fizz\".\n",
    "\n",
    "Se for divisível por 5 é impresso: \"Buzz\"\n",
    "\n",
    "Mas se for divísivel por 3 e 5 ao mesmo tempo deve imprimir:\"FizzBuzz\""
   ]
  },
  {
   "cell_type": "code",
   "execution_count": 19,
   "metadata": {},
   "outputs": [
    {
     "name": "stdout",
     "output_type": "stream",
     "text": [
      "10 Buzz\n"
     ]
    }
   ],
   "source": [
    "num = int(input('Insira um número inteiro: '))\n",
    "\n",
    "if num % 3 == 0 and num % 5 == 0:\n",
    "    print(f'{num} FizzBuzz')\n",
    "elif num % 3 == 0:\n",
    "    print(f'{num} Fizz')\n",
    "elif num % 5 == 0:\n",
    "    print(f'{num} Buzz')\n",
    "else:\n",
    "    print(num)"
   ]
  }
 ],
 "metadata": {
  "kernelspec": {
   "display_name": "base",
   "language": "python",
   "name": "python3"
  },
  "language_info": {
   "codemirror_mode": {
    "name": "ipython",
    "version": 3
   },
   "file_extension": ".py",
   "mimetype": "text/x-python",
   "name": "python",
   "nbconvert_exporter": "python",
   "pygments_lexer": "ipython3",
   "version": "3.9.7"
  }
 },
 "nbformat": 4,
 "nbformat_minor": 2
}
