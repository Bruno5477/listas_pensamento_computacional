{
 "cells": [
  {
   "cell_type": "markdown",
   "metadata": {},
   "source": [
    "## Questão 1)"
   ]
  },
  {
   "cell_type": "markdown",
   "metadata": {},
   "source": [
    "a) Imprima de 1 a 10 utilizando for :"
   ]
  },
  {
   "cell_type": "code",
   "execution_count": 2,
   "metadata": {},
   "outputs": [
    {
     "name": "stdout",
     "output_type": "stream",
     "text": [
      "1\n",
      "2\n",
      "3\n",
      "4\n",
      "5\n",
      "6\n",
      "7\n",
      "8\n",
      "9\n",
      "10\n"
     ]
    }
   ],
   "source": [
    "for _ in range(1,11):\n",
    "    print(_)"
   ]
  },
  {
   "cell_type": "markdown",
   "metadata": {},
   "source": [
    "b) Imprima de 1 a 10 utilizando while :"
   ]
  },
  {
   "cell_type": "code",
   "execution_count": 5,
   "metadata": {},
   "outputs": [
    {
     "name": "stdout",
     "output_type": "stream",
     "text": [
      "1\n",
      "2\n",
      "3\n",
      "4\n",
      "5\n",
      "6\n",
      "7\n",
      "8\n",
      "9\n",
      "10\n"
     ]
    }
   ],
   "source": [
    " i = 1\n",
    "while i <=10:\n",
    "   \n",
    "    print(i)\n",
    "    i += 1"
   ]
  },
  {
   "cell_type": "markdown",
   "metadata": {},
   "source": [
    "## Questão 2)\n",
    "\n",
    "quadrinhos = ['Paciência', 'Invencível', 'Umbrella Academy', 'Born again','Watchmen']\n",
    "\n",
    "Dado a lista acima"
   ]
  },
  {
   "cell_type": "markdown",
   "metadata": {},
   "source": [
    "a) Adicione o quadrinho 'Black Hammer' e imprima a nova lista # exatamente assim:\n",
    "\n",
    "Quadrinhos: Paciência, Black Hammer, Invencível, Umbrella Academy, Born again, Watchmen"
   ]
  },
  {
   "cell_type": "code",
   "execution_count": 11,
   "metadata": {},
   "outputs": [
    {
     "name": "stdout",
     "output_type": "stream",
     "text": [
      " Quadrinhos: ['Paciência', 'Black Hammer', 'Invencível', 'Umbrella Academy', 'Born again', 'Watchmen']\n"
     ]
    }
   ],
   "source": [
    "quadrinhos = ['Paciência', 'Invencível', 'Umbrella Academy', 'Born again','Watchmen']\n",
    "\n",
    "quadrinhos.insert(1,'Black Hammer')\n",
    "\n",
    "print(f' Quadrinhos: {quadrinhos}')"
   ]
  },
  {
   "cell_type": "markdown",
   "metadata": {},
   "source": [
    "b)Remova a história em quadrinhos 'Paciência' e imprima novamente a lista"
   ]
  },
  {
   "cell_type": "code",
   "execution_count": 12,
   "metadata": {},
   "outputs": [
    {
     "name": "stdout",
     "output_type": "stream",
     "text": [
      " Quadrinhos: ['Black Hammer', 'Invencível', 'Umbrella Academy', 'Born again', 'Watchmen']\n"
     ]
    }
   ],
   "source": [
    "quadrinhos.pop(0)\n",
    "print(f' Quadrinhos: {quadrinhos}')"
   ]
  },
  {
   "cell_type": "markdown",
   "metadata": {},
   "source": [
    "## Questão 3)\n",
    "\n",
    "Abaixo temos duas listas. Uma com os nomes da lista e os outros com\n",
    "\n",
    "alunos = ['Alberto', 'Bento', 'Carlos', 'Denis', 'Evaldo', 'Fabiano']\n",
    "\n",
    "notas = [10, 8, 6, 8, 2, 1]\n",
    "\n",
    "Resultado esperado:\n",
    "\n",
    "Alberto: 10\n",
    "\n",
    "Bento: 8\n",
    "\n",
    "Carlos: 6\n",
    "\n",
    "Denis: 8\n",
    "\n",
    "Evaldo: 2\n",
    "\n",
    "Fabiano: 1\n",
    "\n"
   ]
  },
  {
   "cell_type": "code",
   "execution_count": 22,
   "metadata": {},
   "outputs": [
    {
     "name": "stdout",
     "output_type": "stream",
     "text": [
      "Alberto : 10\n",
      "Bento : 8\n",
      "Carlos : 6\n",
      "Denis : 8\n",
      "Evaldo : 2\n",
      "Fabiano : 1\n"
     ]
    }
   ],
   "source": [
    "alunos = ['Alberto', 'Bento', 'Carlos', 'Denis', 'Evaldo', 'Fabiano']\n",
    "notas = [10, 8, 6, 8, 2, 1]\n",
    "\n",
    "for i,nota in enumerate(alunos):\n",
    "    print(f'{alunos[i]} : {notas[i]}')"
   ]
  },
  {
   "cell_type": "markdown",
   "metadata": {},
   "source": [
    "## Questão 4)\n",
    "\n",
    "Dado as informações de notas abaixo.\n",
    "\n",
    "notas = [0, 10, 10, 10, 9, 8, 5, 4, 2, 6, 6, 5, 4] "
   ]
  },
  {
   "cell_type": "markdown",
   "metadata": {},
   "source": [
    "a) Informe quantos alunos estão reprovados"
   ]
  },
  {
   "cell_type": "code",
   "execution_count": 38,
   "metadata": {},
   "outputs": [
    {
     "name": "stdout",
     "output_type": "stream",
     "text": [
      "O número de aprovados é 5\n"
     ]
    }
   ],
   "source": [
    "notas = [0, 10, 10, 10, 9, 8, 5, 4, 2, 6, 6, 5, 4] \n",
    "aprovados = 0\n",
    "\n",
    "for i in notas:\n",
    "    if notas[i] >= 7 :\n",
    "        aprovados +=1\n",
    "\n",
    "print(f'O número de aprovados é {aprovados}')"
   ]
  },
  {
   "cell_type": "markdown",
   "metadata": {},
   "source": [
    "b) Quantos alunos estão aprovados"
   ]
  },
  {
   "cell_type": "code",
   "execution_count": 41,
   "metadata": {},
   "outputs": [
    {
     "name": "stdout",
     "output_type": "stream",
     "text": [
      "O número de reprovados é 8\n",
      "13\n"
     ]
    }
   ],
   "source": [
    "notas = [0, 10, 10, 10, 9, 8, 5, 4, 2, 6, 6, 5, 4] \n",
    "reprovados = 0\n",
    "for i in notas:\n",
    "    if notas[i] < 7 :\n",
    "        reprovados +=1\n",
    "\n",
    "print(f'O número de reprovados é {reprovados}')\n",
    "\n"
   ]
  },
  {
   "cell_type": "markdown",
   "metadata": {},
   "source": [
    "c) Média geral da turma"
   ]
  },
  {
   "cell_type": "code",
   "execution_count": 62,
   "metadata": {},
   "outputs": [
    {
     "name": "stdout",
     "output_type": "stream",
     "text": [
      " A média da turma foi: 6.077\n"
     ]
    }
   ],
   "source": [
    "notas = [0, 10, 10, 10, 9, 8, 5, 4, 2, 6, 6, 5, 4] \n",
    "\n",
    "media = sum(notas)/len(notas)\n",
    "\n",
    "print(f' A média da turma foi: {round(media,3)}')"
   ]
  },
  {
   "cell_type": "markdown",
   "metadata": {},
   "source": [
    "## Questão 5)\n",
    "\n",
    "Crie um programa com while em que se o usuário não inserir a senha correta, será solicitado\n",
    "novamente a senha, até que o usuário acerte a senha\n",
    "\n",
    "senha = 'admin123'\n"
   ]
  },
  {
   "cell_type": "code",
   "execution_count": 1,
   "metadata": {},
   "outputs": [
    {
     "name": "stdout",
     "output_type": "stream",
     "text": [
      "Você acertou a senha!!!\n"
     ]
    }
   ],
   "source": [
    "senha_correta = 'admin123'\n",
    "\n",
    "senha = ''\n",
    "\n",
    "while senha != senha_correta :\n",
    "    senha = input('insira a senha: ')\n",
    "print(\"Você acertou a senha!!!\")"
   ]
  },
  {
   "cell_type": "markdown",
   "metadata": {},
   "source": [
    "## Questão 6)\n",
    "\n",
    "Crie uma função (def) em python que calcule e imprima a média de duas notas:"
   ]
  },
  {
   "cell_type": "code",
   "execution_count": 5,
   "metadata": {},
   "outputs": [
    {
     "data": {
      "text/plain": [
       "6.5"
      ]
     },
     "execution_count": 5,
     "metadata": {},
     "output_type": "execute_result"
    }
   ],
   "source": [
    "def media ():\n",
    "    n1 = float(input('Insira a primeira nota:'))\n",
    "    n2 = float(input('Insira a segunda nota:'))\n",
    "    media = (n1 + n2)/2\n",
    "    return media\n",
    "\n",
    "\n",
    "media()"
   ]
  },
  {
   "cell_type": "markdown",
   "metadata": {},
   "source": [
    "## Questão 7)\n",
    "\n",
    "Escreva um programa em Python que gere uma senha aleatória com as seguintes\n",
    "especificações:\n",
    "\n",
    "1. A senha deve conter dígitos numéricos (0-9), letras (maiúsculas e minúsculas) e\n",
    "caracteres especiais (por exemplo: !@#$%).\n",
    "\n",
    "2. A quantidade de cada tipo de caractere (dígitos, letras e caracteres especiais) deve ser\n",
    "aleatória, mas a senha deve ter pelo menos um de cada tipo.\n",
    "\n",
    "3. O usuário deve informar apenas o comprimento desejado para a senha.\n",
    "\n",
    "4. A senha gerada deve ser completamente aleatória, respeitando os requisitos acima.\n",
    "\n",
    "Por exemplo, se o usuário solicitar uma senha de 10 caracteres, o programa pode gerar:\n",
    "\n",
    "Senha: r5#Tz9@Kx9\n",
    "\n",
    "Se o usuário solicitar uma senha de 3 caracteres, o programa pode gerar:\n",
    "\n",
    "Senha: 2y#"
   ]
  },
  {
   "cell_type": "code",
   "execution_count": 15,
   "metadata": {},
   "outputs": [
    {
     "name": "stdout",
     "output_type": "stream",
     "text": [
      "Senha gerada: $4@rfVNscr\n"
     ]
    }
   ],
   "source": [
    "import random\n",
    "import string\n",
    "\n",
    "def gerar_senha():\n",
    "    tamanho = int(input('Insira o número de dígitos da senha:'))\n",
    "    \n",
    "    # Definindo os tipos de caracteres\n",
    "    digitos = string.digits\n",
    "    letras = string.ascii_letters\n",
    "    caracteres_especiais = \"!@#$%\"\n",
    "\n",
    "    # Garantindo que haja pelo menos um de cada tipo\n",
    "    senha = [\n",
    "        random.choice(digitos),\n",
    "        random.choice(letras),\n",
    "        random.choice(caracteres_especiais)\n",
    "    ]\n",
    "\n",
    "    # Preenchendo o restante da senha com uma mistura aleatória dos caracteres permitidos\n",
    "    todos_os_caracteres = digitos + letras + caracteres_especiais\n",
    "    senha += random.choices(todos_os_caracteres, k=tamanho-3)\n",
    "    \n",
    "    # Embaralhando a senha para garantir aleatoriedade\n",
    "    random.shuffle(senha)\n",
    "    \n",
    "    # Convertendo a lista em string\n",
    "    return ''.join(senha)\n",
    "\n",
    "# Solicitando o comprimento da senha ao usuário\n",
    "\n",
    "senha_gerada = gerar_senha()\n",
    "print(\"Senha gerada:\", senha_gerada)\n"
   ]
  }
 ],
 "metadata": {
  "kernelspec": {
   "display_name": "base",
   "language": "python",
   "name": "python3"
  },
  "language_info": {
   "codemirror_mode": {
    "name": "ipython",
    "version": 3
   },
   "file_extension": ".py",
   "mimetype": "text/x-python",
   "name": "python",
   "nbconvert_exporter": "python",
   "pygments_lexer": "ipython3",
   "version": "3.9.7"
  }
 },
 "nbformat": 4,
 "nbformat_minor": 2
}
