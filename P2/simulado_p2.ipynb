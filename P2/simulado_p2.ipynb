{
 "cells": [
  {
   "cell_type": "markdown",
   "metadata": {},
   "source": [
    "Questão 1:\n",
    "\n",
    "Uma equipe de vendas tem como meta mensal a venda de 70 unidades de um determinado produto.\n",
    "Escreva um programa em Python que avalie o desempenho de cada vendedor, classificando-os em relação ao cumprimento dessa meta.\n",
    "Você deve calcular e imprimir o número de vendedores que alcançaram ou superaram a meta e o número de vendedores que não a alcançaram."
   ]
  },
  {
   "cell_type": "code",
   "execution_count": 1,
   "metadata": {},
   "outputs": [
    {
     "name": "stdout",
     "output_type": "stream",
     "text": [
      "Alcançaram a meta: 5 vendedores.\n",
      "Não alcançaram a meta: 8 vendedores.\n"
     ]
    }
   ],
   "source": [
    "unidades_vendidas = [10, 100, 90, 80, 70, 60, 50, 30, 20, 60, 70, 50, 30]\n",
    "meta = 70\n",
    "alcancaram_meta = []\n",
    "nao_alcancaram_meta = []\n",
    "\n",
    "for unidades in unidades_vendidas:\n",
    "    if unidades >= meta:\n",
    "        alcancaram_meta.append(unidades)\n",
    "    else:\n",
    "        nao_alcancaram_meta.append(unidades)\n",
    "\n",
    "print(f'Alcançaram a meta: {len(alcancaram_meta)} vendedores.')\n",
    "print(f'Não alcançaram a meta: {len(nao_alcancaram_meta)} vendedores.')"
   ]
  },
  {
   "cell_type": "markdown",
   "metadata": {},
   "source": [
    "Questão 2:\n",
    "\n",
    "Crie um programa que o usuário insere o número de letras e números e gere uma senha de forma aleatória."
   ]
  },
  {
   "cell_type": "code",
   "execution_count": 4,
   "metadata": {},
   "outputs": [
    {
     "name": "stdout",
     "output_type": "stream",
     "text": [
      "nE534\n"
     ]
    }
   ],
   "source": [
    "import random\n",
    "import string\n",
    "\n",
    "letras = string.ascii_letters\n",
    "numeros = string.digits\n",
    "\n",
    "n_letras = int(input('Digite o número de letras: '))\n",
    "n_numeros = int(input('Digite o número de números: '))\n",
    "senha = []\n",
    "\n",
    "for i in range(n_letras):\n",
    "    senha.append(random.choice(letras))\n",
    "\n",
    "for i in range(n_numeros):\n",
    "    senha.append(random.choice(numeros))\n",
    "\n",
    "senha = ''.join(senha)\n",
    "print(senha)"
   ]
  },
  {
   "cell_type": "markdown",
   "metadata": {},
   "source": [
    "Questão 3 \n",
    "\n",
    "Crie um o qual o usuário irá digitar uma senha. Caso a senha seja digitada de forma incorreta, o programa deverá continuar em loop pedindo para que a senha seja fornecida novamente.\n",
    "\n",
    "Exemplo de resposta esperada:\n",
    "Insira a senha correta: najsdnjlsakd\n",
    "\n",
    "Senha errada!\n",
    "Inira a senha correta: jklansdlkasjd\n",
    "\n",
    "Senha errada!\n",
    "Inira a senha correta: 123456\n",
    "\n",
    "Senha correta. Pode continuar"
   ]
  },
  {
   "cell_type": "code",
   "execution_count": 5,
   "metadata": {},
   "outputs": [
    {
     "name": "stdout",
     "output_type": "stream",
     "text": [
      "Senha incorreta...\n",
      "Senha incorreta...\n",
      "Senha correta!!!\n"
     ]
    }
   ],
   "source": [
    "import random\n",
    "senha_certa = '123456'\n",
    "\n",
    "senha = ''\n",
    "\n",
    "while senha != senha_certa:\n",
    "    senha = input('Digite a senha: ')\n",
    "    if senha != senha_certa:\n",
    "        print('Senha incorreta...')\n",
    "\n",
    "print('Senha correta!!!')"
   ]
  },
  {
   "cell_type": "markdown",
   "metadata": {},
   "source": [
    "Questão 4:\n",
    "\n",
    "Você está criando um jogo de azar em Python onde o jogador lança um dado virtual de 10 lados. O objetivo é escrever um programa que simule o lançamento do dado e informe o jogador sobre o resultado, seguindo estas regras:\n",
    "\n",
    "Se o dado cair em 10, o jogador ganha o grande prêmio e o programa finaliza.\n",
    "Se o dado cair entre 7 e 9, o jogador ganha um prêmio pequeno.\n",
    "Se o dado cair entre 2 e 6, o jogador não ganha nada.\n",
    "\n",
    "Se o dado cair em 1, o jogador perde o jogo.\n",
    "\n",
    "Use o código inicial fornecido abaixo e adicione a lógica necessária para implementar as regras do jogo."
   ]
  },
  {
   "cell_type": "code",
   "execution_count": 10,
   "metadata": {},
   "outputs": [
    {
     "name": "stdout",
     "output_type": "stream",
     "text": [
      "Lançar dado...\n",
      "6: Você não ganhou nada...\n"
     ]
    }
   ],
   "source": [
    "import random\n",
    "dado = random.randint(1, 10)\n",
    "print('Lançar dado...')\n",
    "\n",
    "if dado == 10:\n",
    "    print(f'{dado}: Parabéns!!! Você ganhou o grande prêmio!!!')\n",
    "elif dado >= 7:\n",
    "    print(f'{dado}: Parabéns!!! Você ganhou um prêmio pequeno!!!')\n",
    "elif dado >= 2:\n",
    "    print(f'{dado}: Você não ganhou nada...')\n",
    "else:\n",
    "    print(f'{dado}: Você perdeu...')"
   ]
  },
  {
   "cell_type": "markdown",
   "metadata": {},
   "source": [
    "Questão 5:\n",
    "\n",
    "Crie um programa que informe quantos participantes alcançaram o resultado igual ou maior de 8.\n",
    "\n",
    "O programa deve informar:\n",
    "7 participantes tiveram acima de 8 pontos e foram seleconados para a próxima entrevista."
   ]
  },
  {
   "cell_type": "code",
   "execution_count": 11,
   "metadata": {},
   "outputs": [
    {
     "name": "stdout",
     "output_type": "stream",
     "text": [
      "Foram selecionados 7 participantes...\n"
     ]
    }
   ],
   "source": [
    "acertos = [0, 10, 9, 10, 9, 8, 10, 9, 5, 4, 2, 6, 6, 5, 4, 1, 2, 3]\n",
    "\n",
    "# Seu código abaixo\n",
    "selecionados = []\n",
    "\n",
    "for n in acertos:\n",
    "    if n >= 8:\n",
    "        selecionados.append(n)\n",
    "print(f'Foram selecionados {len(selecionados)} participantes...')"
   ]
  },
  {
   "cell_type": "markdown",
   "metadata": {},
   "source": [
    "Questão 6:\n",
    "\n",
    "a) Adicione o livro poderoso chefão na lista de livros.\n",
    "\n",
    "b) Imprima todos os livros com a lista atualizada:"
   ]
  },
  {
   "cell_type": "code",
   "execution_count": 12,
   "metadata": {},
   "outputs": [
    {
     "name": "stdout",
     "output_type": "stream",
     "text": [
      "['1984', 'Admirável mundo novo', 'A Guerra dos Mundos', 'Eu, Robô', 'poderoso chefão']\n"
     ]
    }
   ],
   "source": [
    "\n",
    "livro = 'poderoso chefão'\n",
    "livros = ['1984', 'Admirável mundo novo', 'A Guerra dos Mundos', 'Eu, Robô']\n",
    "\n",
    "livros.append(livro)\n",
    "\n",
    "print(livros)"
   ]
  }
 ],
 "metadata": {
  "kernelspec": {
   "display_name": "base",
   "language": "python",
   "name": "python3"
  },
  "language_info": {
   "codemirror_mode": {
    "name": "ipython",
    "version": 3
   },
   "file_extension": ".py",
   "mimetype": "text/x-python",
   "name": "python",
   "nbconvert_exporter": "python",
   "pygments_lexer": "ipython3",
   "version": "3.9.7"
  }
 },
 "nbformat": 4,
 "nbformat_minor": 2
}
