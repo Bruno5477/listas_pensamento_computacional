{
 "cells": [
  {
   "cell_type": "markdown",
   "metadata": {},
   "source": [
    "### Questão 1 \n",
    "Crie um programa que imprime os valores de 5 a 20"
   ]
  },
  {
   "cell_type": "code",
   "execution_count": null,
   "metadata": {},
   "outputs": [],
   "source": [
    "for i in range(5,21):\n",
    "    print(i)"
   ]
  },
  {
   "cell_type": "markdown",
   "metadata": {},
   "source": [
    "### Questão 2 \n",
    "Dado a lista a seguir:\n",
    "\n",
    "letras = ['a', 'b', 'c', 'd', 'e', 'f'']\n",
    "\n",
    "imprima os valores da seguinte forma:"
   ]
  },
  {
   "cell_type": "code",
   "execution_count": null,
   "metadata": {},
   "outputs": [],
   "source": [
    "letras = ['a', 'b', 'c', 'd', 'e', 'f']\n",
    "\n",
    "for letra in letras:\n",
    "    print(f'letra {letra}')"
   ]
  },
  {
   "cell_type": "markdown",
   "metadata": {},
   "source": [
    "### Questão 3\n",
    "Deverá ser criado um programa que fornece uma média ponderada de notas de um candidato:\n",
    "\n",
    "Cada fase terá um peso maior que a da primeira. Ao final será fornecido o resultado da média ponderada das notas. \n",
    "\n",
    "Exemplo. \n",
    "\n",
    "- Se são 3 fases. A primeira terá peso 1. A segunda peso 2. A terceira peso 3.\n",
    "\n",
    "- Se são 4 fases. A primeira terá peso 1. A segunda peso 2. A terceira peso 3.A quarta terá peso 4.\n",
    "\n",
    "Obs: Duvidas sobre o que é uma média ponderada ou como fazer, pesquise na internet como, para que possa aplicar neste problema. "
   ]
  },
  {
   "cell_type": "code",
   "execution_count": null,
   "metadata": {},
   "outputs": [],
   "source": [
    "provas = int(input('Insira o número de avaliações:'))\n",
    "notas = 0\n",
    "pesos = 0\n",
    "for i in range(provas):\n",
    "    notas += float(input(f'Insira a  nota da sua {i + 1}°:'))*(i+1)\n",
    "    pesos += i + 1\n",
    "print(f'A soma dos pesos é :{pesos}.')\n",
    "print(f'A soma das notas é :{notas}.')\n",
    "media = notas/pesos\n",
    "\n",
    "print(f'A sua Média ponderada foi: {media:.1f}')\n",
    "\n",
    "if media >= 7:\n",
    "    print('Parabéns, você foi aprovado!!!')\n",
    "else:\n",
    "    print('Sinto muito, você foi reprovado.')"
   ]
  },
  {
   "cell_type": "markdown",
   "metadata": {},
   "source": [
    "### Questão 4 \n",
    "Refaça as questões que foram realizadas na aula do dia 13/05"
   ]
  },
  {
   "cell_type": "markdown",
   "metadata": {},
   "source": [
    "- Atividade 1"
   ]
  },
  {
   "cell_type": "code",
   "execution_count": null,
   "metadata": {},
   "outputs": [],
   "source": [
    "sabores = ('chocolate', 'morango', 'Coco')\n",
    "for sabor in sabores:\n",
    "    print(f'Bolo de {sabor}')"
   ]
  },
  {
   "cell_type": "markdown",
   "metadata": {},
   "source": [
    "- Atividade 2"
   ]
  },
  {
   "cell_type": "code",
   "execution_count": null,
   "metadata": {},
   "outputs": [],
   "source": [
    "for i in range(1, 31):\n",
    "    if i % 3 == 0 and i % 5 == 0:\n",
    "        print('FizzBuzz')\n",
    "    elif i % 3 == 0:\n",
    "        print('Fizz')\n",
    "    elif i % 5 == 0:\n",
    "        print('Buzz')\n",
    "    else:\n",
    "        print(i)"
   ]
  },
  {
   "cell_type": "markdown",
   "metadata": {},
   "source": [
    "  - Atividade 3"
   ]
  },
  {
   "cell_type": "code",
   "execution_count": null,
   "metadata": {},
   "outputs": [],
   "source": [
    "provas = int(input('Insira o número de avaliações:'))\n",
    "notas = 0\n",
    "\n",
    "for i in range(provas):\n",
    "    notas += float(input(f'Insira a  nota da sua {i + 1}°:'))\n",
    "    \n",
    "media = notas/provas\n",
    "\n",
    "print(f'Média: {media:.1f}')\n",
    "\n",
    "if media >= 7:\n",
    "    print('Parabéns, você foi aprovado!!!')\n",
    "else:\n",
    "    print('Sinto muito, você foi reprovado.')"
   ]
  },
  {
   "cell_type": "markdown",
   "metadata": {},
   "source": [
    "- Atividade 4"
   ]
  },
  {
   "cell_type": "code",
   "execution_count": null,
   "metadata": {},
   "outputs": [],
   "source": [
    "meta = 50\n",
    "semestre_1 = [20, 50, 100,300, 2, 1]\n",
    "semestre_2 = [12, 100, 3, 40, 49, 70]\n",
    "\n",
    "alcance_de_meta = []\n",
    "semestre_1.extend(semestre_2)\n",
    "ano = semestre_1\n",
    "meses = ['Jan', 'Fev', 'Mar', 'Abr', 'Mai', 'Jun', 'Jul', 'Ago', 'Set', 'Out','Nov', 'Dec']\n",
    "\n",
    "       \n",
    "for i, meses in enumerate(meses):\n",
    "    if ano[i] >= meta:\n",
    "        print(f'{meses} = {ano[i]}')"
   ]
  }
 ],
 "metadata": {
  "kernelspec": {
   "display_name": "base",
   "language": "python",
   "name": "python3"
  },
  "language_info": {
   "codemirror_mode": {
    "name": "ipython",
    "version": 3
   },
   "file_extension": ".py",
   "mimetype": "text/x-python",
   "name": "python",
   "nbconvert_exporter": "python",
   "pygments_lexer": "ipython3",
   "version": "3.9.7"
  }
 },
 "nbformat": 4,
 "nbformat_minor": 2
}
